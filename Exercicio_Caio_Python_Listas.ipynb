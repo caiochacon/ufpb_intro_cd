{
  "nbformat": 4,
  "nbformat_minor": 0,
  "metadata": {
    "kernelspec": {
      "display_name": "icd",
      "language": "python",
      "name": "icd"
    },
    "language_info": {
      "codemirror_mode": {
        "name": "ipython",
        "version": 3
      },
      "file_extension": ".py",
      "mimetype": "text/x-python",
      "name": "python",
      "nbconvert_exporter": "python",
      "pygments_lexer": "ipython3",
      "version": "3.7.7"
    },
    "colab": {
      "name": "Exercicio_Caio_Python_Listas.ipynb",
      "provenance": [],
      "include_colab_link": true
    }
  },
  "cells": [
    {
      "cell_type": "markdown",
      "metadata": {
        "id": "view-in-github",
        "colab_type": "text"
      },
      "source": [
        "<a href=\"https://colab.research.google.com/github/caiochacon/ufpb_intro_cd/blob/main/Exercicio_Caio_Python_Listas.ipynb\" target=\"_parent\"><img src=\"https://colab.research.google.com/assets/colab-badge.svg\" alt=\"Open In Colab\"/></a>"
      ]
    },
    {
      "cell_type": "markdown",
      "metadata": {
        "id": "u_BfOseWx2WI"
      },
      "source": [
        "# Introdução à Ciência de Dados - UFPB\n",
        "Professor: Yuri Malheiros\n",
        "\n",
        "## Python - Listas - Exercício"
      ]
    },
    {
      "cell_type": "markdown",
      "metadata": {
        "id": "UaF02Mu0x2WL"
      },
      "source": [
        "Utilizando o resultado do processamento da lista de músicas, vamos implementar duas funções."
      ]
    },
    {
      "cell_type": "code",
      "metadata": {
        "id": "bYAb3hSLx2WM"
      },
      "source": [
        "top_10 = [\"Tones and I - Dance Monkey\", \"Lady Gaga, Ariana Grande - Rain on Me\",\n",
        "          \"Justin Bieber - Yummy\", \"MISCHO - Photon Love\", \"Dua Lipa - Break My Heart\",\n",
        "          \"Lady Gaga, BLACKPINK - Sour Candy\", \"Dua Lipa - Don't Start Now\",\n",
        "          \"Justin Bieber, Quavo - Intentions\", \"Doja Cat - Say So\",\n",
        "          \"Karol G, Nicki Minaj - Tusa\", \"Benee, Gus Dapperton - Supalonely\"]"
      ],
      "execution_count": null,
      "outputs": []
    },
    {
      "cell_type": "code",
      "metadata": {
        "colab": {
          "base_uri": "https://localhost:8080/"
        },
        "id": "fZ39XID7x2WN",
        "outputId": "2c49a81f-bfd0-4799-b009-b9c5a31cee30"
      },
      "source": [
        "top_10_dict = [{\"artist\": x.split(\" - \")[0], \"song\": x.split(\" - \")[1]} for x in top_10]\n",
        "top_10_dict"
      ],
      "execution_count": null,
      "outputs": [
        {
          "output_type": "execute_result",
          "data": {
            "text/plain": [
              "[{'artist': 'Tones and I', 'song': 'Dance Monkey'},\n",
              " {'artist': 'Lady Gaga, Ariana Grande', 'song': 'Rain on Me'},\n",
              " {'artist': 'Justin Bieber', 'song': 'Yummy'},\n",
              " {'artist': 'MISCHO', 'song': 'Photon Love'},\n",
              " {'artist': 'Dua Lipa', 'song': 'Break My Heart'},\n",
              " {'artist': 'Lady Gaga, BLACKPINK', 'song': 'Sour Candy'},\n",
              " {'artist': 'Dua Lipa', 'song': \"Don't Start Now\"},\n",
              " {'artist': 'Justin Bieber, Quavo', 'song': 'Intentions'},\n",
              " {'artist': 'Doja Cat', 'song': 'Say So'},\n",
              " {'artist': 'Karol G, Nicki Minaj', 'song': 'Tusa'},\n",
              " {'artist': 'Benee, Gus Dapperton', 'song': 'Supalonely'}]"
            ]
          },
          "metadata": {
            "tags": []
          },
          "execution_count": 2
        }
      ]
    },
    {
      "cell_type": "markdown",
      "metadata": {
        "id": "PhyURmMNx2WN"
      },
      "source": [
        "As funções possuem um comentário de doctest que serve para testá-la. Por favor, não apague o comentário após a a definição da função.\n",
        "\n",
        "Você pode conferir se a implementação está correta executando a última célula deste notebook."
      ]
    },
    {
      "cell_type": "markdown",
      "metadata": {
        "id": "wWiPtDwMx2WN"
      },
      "source": [
        "A função `get_songs` vai receber a lista `top_10_dict` como parâmetro. Escreva o código para que ela retorne uma lista com todas as músicas:"
      ]
    },
    {
      "cell_type": "code",
      "metadata": {
        "id": "LS_sA3-2x2WO"
      },
      "source": [
        "def get_songs(music_dict):\n",
        "    \"\"\"\n",
        "    >>> get_songs(top_10_dict)\n",
        "    ['Dance Monkey', 'Rain on Me', 'Yummy', 'Photon Love', 'Break My Heart', 'Sour Candy', \"Don't Start Now\", 'Intentions', 'Say So', 'Tusa', 'Supalonely']\n",
        "    \"\"\"\n",
        "\n",
        "    # ADICIONE O SEU CÓDIGO AQUI\n",
        "    musicas = [i['song'] for i in music_dict]\n",
        "\n",
        "    return musicas "
      ],
      "execution_count": null,
      "outputs": []
    },
    {
      "cell_type": "code",
      "metadata": {
        "colab": {
          "base_uri": "https://localhost:8080/"
        },
        "id": "9nj0rLCnx2WO",
        "outputId": "2e4d7177-0ebc-4e28-c020-b61142582fe7"
      },
      "source": [
        "get_songs(top_10_dict)"
      ],
      "execution_count": null,
      "outputs": [
        {
          "output_type": "execute_result",
          "data": {
            "text/plain": [
              "['Dance Monkey',\n",
              " 'Rain on Me',\n",
              " 'Yummy',\n",
              " 'Photon Love',\n",
              " 'Break My Heart',\n",
              " 'Sour Candy',\n",
              " \"Don't Start Now\",\n",
              " 'Intentions',\n",
              " 'Say So',\n",
              " 'Tusa',\n",
              " 'Supalonely']"
            ]
          },
          "metadata": {
            "tags": []
          },
          "execution_count": 4
        }
      ]
    },
    {
      "cell_type": "markdown",
      "metadata": {
        "id": "I46jWRFYx2WO"
      },
      "source": [
        "A função `get_artists` vai receber a lista `top_10_dict` como parâmetro. Escreva o código para que ela retorne uma lista com todos os artistas. Atenção, algumas músicas possuem mais de um artista, eles são separados por vírgula. A função abaixo deve separar os artistas."
      ]
    },
    {
      "cell_type": "code",
      "metadata": {
        "id": "UHW52fw5x2WP"
      },
      "source": [
        "def get_artists(music_dict):\n",
        "    \"\"\"\n",
        "    >>> get_artists(top_10_dict)\n",
        "    ['Tones and I', 'Lady Gaga', 'Ariana Grande', 'Justin Bieber', 'MISCHO', 'Dua Lipa', 'Lady Gaga', 'BLACKPINK', 'Dua Lipa', 'Justin Bieber', 'Quavo', 'Doja Cat', 'Karol G', 'Nicki Minaj', 'Benee', 'Gus Dapperton']\n",
        "    \"\"\"\n",
        "\n",
        "    # ADICIONE O SEU CÓDIGO AQUI   \n",
        "    artistas = []\n",
        "    temp_artist = [music_dict[i]['artist'] for i in range(len(top_10_dict))]\n",
        "\n",
        "    for i in temp_artist:\n",
        "      if len(i.split(', ')) == 1:\n",
        "        artistas.append(i)\n",
        "      else:\n",
        "        for j in (i.split(', ')):\n",
        "          artistas.append(j)\n",
        "\n",
        "    return artistas "
      ],
      "execution_count": null,
      "outputs": []
    },
    {
      "cell_type": "code",
      "metadata": {
        "colab": {
          "base_uri": "https://localhost:8080/"
        },
        "id": "I1Y74FRsx2WP",
        "outputId": "736c527f-bab4-4f66-c2d0-8c677f47be05"
      },
      "source": [
        "get_artists(top_10_dict)"
      ],
      "execution_count": null,
      "outputs": [
        {
          "output_type": "execute_result",
          "data": {
            "text/plain": [
              "['Tones and I',\n",
              " 'Lady Gaga',\n",
              " 'Ariana Grande',\n",
              " 'Justin Bieber',\n",
              " 'MISCHO',\n",
              " 'Dua Lipa',\n",
              " 'Lady Gaga',\n",
              " 'BLACKPINK',\n",
              " 'Dua Lipa',\n",
              " 'Justin Bieber',\n",
              " 'Quavo',\n",
              " 'Doja Cat',\n",
              " 'Karol G',\n",
              " 'Nicki Minaj',\n",
              " 'Benee',\n",
              " 'Gus Dapperton']"
            ]
          },
          "metadata": {
            "tags": []
          },
          "execution_count": 10
        }
      ]
    },
    {
      "cell_type": "markdown",
      "metadata": {
        "id": "F44GIlijx2WP"
      },
      "source": [
        "## Teste"
      ]
    },
    {
      "cell_type": "code",
      "metadata": {
        "colab": {
          "base_uri": "https://localhost:8080/"
        },
        "id": "JcUNP_Prx2WQ",
        "outputId": "32829831-34f4-4a6c-d141-2737684ed6f6"
      },
      "source": [
        "import doctest\n",
        "\n",
        "doctest.testmod(verbose=True)"
      ],
      "execution_count": null,
      "outputs": [
        {
          "output_type": "stream",
          "text": [
            "Trying:\n",
            "    get_artists(top_10_dict)\n",
            "Expecting:\n",
            "    ['Tones and I', 'Lady Gaga', 'Ariana Grande', 'Justin Bieber', 'MISCHO', 'Dua Lipa', 'Lady Gaga', 'BLACKPINK', 'Dua Lipa', 'Justin Bieber', 'Quavo', 'Doja Cat', 'Karol G', 'Nicki Minaj', 'Benee', 'Gus Dapperton']\n",
            "ok\n",
            "Trying:\n",
            "    get_songs(top_10_dict)\n",
            "Expecting:\n",
            "    ['Dance Monkey', 'Rain on Me', 'Yummy', 'Photon Love', 'Break My Heart', 'Sour Candy', \"Don't Start Now\", 'Intentions', 'Say So', 'Tusa', 'Supalonely']\n",
            "ok\n",
            "1 items had no tests:\n",
            "    __main__\n",
            "2 items passed all tests:\n",
            "   1 tests in __main__.get_artists\n",
            "   1 tests in __main__.get_songs\n",
            "2 tests in 3 items.\n",
            "2 passed and 0 failed.\n",
            "Test passed.\n"
          ],
          "name": "stdout"
        },
        {
          "output_type": "execute_result",
          "data": {
            "text/plain": [
              "TestResults(failed=0, attempted=2)"
            ]
          },
          "metadata": {
            "tags": []
          },
          "execution_count": 11
        }
      ]
    },
    {
      "cell_type": "code",
      "metadata": {
        "id": "D29VU1wRAEx2"
      },
      "source": [
        ""
      ],
      "execution_count": null,
      "outputs": []
    }
  ]
}