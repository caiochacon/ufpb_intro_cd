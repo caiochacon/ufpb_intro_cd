{
  "nbformat": 4,
  "nbformat_minor": 0,
  "metadata": {
    "kernelspec": {
      "display_name": "icd",
      "language": "python",
      "name": "icd"
    },
    "language_info": {
      "codemirror_mode": {
        "name": "ipython",
        "version": 3
      },
      "file_extension": ".py",
      "mimetype": "text/x-python",
      "name": "python",
      "nbconvert_exporter": "python",
      "pygments_lexer": "ipython3",
      "version": "3.7.7"
    },
    "colab": {
      "name": "Exercício_Caio_Lucas_Python_Random.ipynb",
      "provenance": [],
      "include_colab_link": true
    }
  },
  "cells": [
    {
      "cell_type": "markdown",
      "metadata": {
        "id": "view-in-github",
        "colab_type": "text"
      },
      "source": [
        "<a href=\"https://colab.research.google.com/github/caiochacon/ufpb_intro_cd/blob/main/Exerc%C3%ADcio_Caio_Lucas_Python_Random.ipynb\" target=\"_parent\"><img src=\"https://colab.research.google.com/assets/colab-badge.svg\" alt=\"Open In Colab\"/></a>"
      ]
    },
    {
      "cell_type": "markdown",
      "metadata": {
        "id": "UoXduktGQCYf"
      },
      "source": [
        "# Introdução à Ciência de Dados - UFPB\n",
        "Professor: Yuri Malheiros\n",
        "\n",
        "Aluno: Caio Lucas\n",
        "\n",
        "## Python - Random - Exercício"
      ]
    },
    {
      "cell_type": "markdown",
      "metadata": {
        "id": "79za0D2LQCYt"
      },
      "source": [
        "Implemente a função `generate_password` que deve gerar uma senha aleatória.\n",
        "\n",
        "A função tem tres parâmetros:\n",
        "\n",
        "- `n_chars` especifica o tamanho da senha gerada\n",
        "- `use_numbers` especifica se números podem ser usados na senha. Por padrão, esse parâmetro tem valor True\n",
        "- `use_special_chars` especifica se caracteres especiais, por exemplo !#%&@?, pode ser usados na senha. Por padrão, esse parâmetro tem valor True\n",
        "\n",
        "Note que se `use_numbers` e `use_special_chars` tiverem valor False, a senha terá apenas letras maiúsculas ou minúsculas."
      ]
    },
    {
      "cell_type": "code",
      "metadata": {
        "id": "uSsjiNicQCYv"
      },
      "source": [
        "import random\n",
        "\n",
        "def generate_password(n_chars, use_numbers=True, use_special_chars=True):\n",
        "  \n",
        "  password = ''\n",
        "  \n",
        "  only_numbers = [i for i in range(48, 58)]\n",
        "  only_letters = [i for i in range(65, 91)] + [i for i in range(97, 123)]\n",
        "  only_special = [i for i in range(33, 48)] + [i for i in range(58, 65)]\n",
        "\n",
        "  final_list = only_letters\n",
        "\n",
        "  if use_numbers == True:\n",
        "    final_list += only_numbers\n",
        "    \n",
        "  if use_special_chars == True:\n",
        "    final_list += only_special\n",
        "    \n",
        "  for i in range(n_chars):\n",
        "    password += chr(random.choice(final_list))\n",
        "  \n",
        "  return password\n"
      ],
      "execution_count": null,
      "outputs": []
    },
    {
      "cell_type": "code",
      "metadata": {
        "id": "nGH8aiRnQCYw",
        "colab": {
          "base_uri": "https://localhost:8080/"
        },
        "outputId": "6551f654-d04e-4a61-833b-ffcdf4a6eea4"
      },
      "source": [
        "print(generate_password(10))\n",
        "print(generate_password(10, use_numbers=False))\n",
        "print(generate_password(10, use_numbers=False, use_special_chars=False))"
      ],
      "execution_count": null,
      "outputs": [
        {
          "output_type": "stream",
          "text": [
            "z&o=fKm6?5\n",
            "FnOzr/SAUp\n",
            "NPkAEGzNSn\n"
          ],
          "name": "stdout"
        }
      ]
    }
  ]
}