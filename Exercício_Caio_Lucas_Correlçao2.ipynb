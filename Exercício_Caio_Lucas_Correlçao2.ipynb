{
  "nbformat": 4,
  "nbformat_minor": 0,
  "metadata": {
    "kernelspec": {
      "display_name": "icd",
      "language": "python",
      "name": "icd"
    },
    "language_info": {
      "codemirror_mode": {
        "name": "ipython",
        "version": 3
      },
      "file_extension": ".py",
      "mimetype": "text/x-python",
      "name": "python",
      "nbconvert_exporter": "python",
      "pygments_lexer": "ipython3",
      "version": "3.7.7"
    },
    "colab": {
      "name": "Exercício_Caio_Lucas_Correlçao2.ipynb",
      "provenance": [],
      "collapsed_sections": [],
      "include_colab_link": true
    }
  },
  "cells": [
    {
      "cell_type": "markdown",
      "metadata": {
        "id": "view-in-github",
        "colab_type": "text"
      },
      "source": [
        "<a href=\"https://colab.research.google.com/github/caiochacon/ufpb_intro_cd/blob/main/Exerc%C3%ADcio_Caio_Lucas_Correl%C3%A7ao2.ipynb\" target=\"_parent\"><img src=\"https://colab.research.google.com/assets/colab-badge.svg\" alt=\"Open In Colab\"/></a>"
      ]
    },
    {
      "cell_type": "markdown",
      "metadata": {
        "id": "1MPXrqvvrctW"
      },
      "source": [
        "# Introdução à Ciência de Dados - UFPB\n",
        "Professor: Yuri Malheiros\n",
        "\n",
        "## Correlação"
      ]
    },
    {
      "cell_type": "markdown",
      "metadata": {
        "id": "F3uKcyclrcti"
      },
      "source": [
        "Colete os seguintes dados dos times do campeonato brasileiro de 2020:\n",
        "\n",
        "- Pontos\n",
        "- Gols marcados\n",
        "- Gol sofridos\n",
        "\n",
        "Você pode encontrar esses dados no site da CBF (www.cbf.com.br)\n",
        "\n",
        "Calcule a correlação entre:\n",
        "\n",
        "- Pontos e gols marcados\n",
        "- Pontos e gols sofridos"
      ]
    },
    {
      "cell_type": "code",
      "metadata": {
        "id": "hawV9DZVrsfe"
      },
      "source": [
        "import pandas as pd"
      ],
      "execution_count": 1,
      "outputs": []
    },
    {
      "cell_type": "code",
      "metadata": {
        "id": "AisHAc91rtpy"
      },
      "source": [
        "df = pd.read_html('https://www.cbf.com.br/futebol-brasileiro/competicoes/campeonato-brasileiro-serie-a/2020')\n",
        "df = df[0]"
      ],
      "execution_count": 4,
      "outputs": []
    },
    {
      "cell_type": "markdown",
      "metadata": {
        "id": "S2bxVHH1sRNw"
      },
      "source": [
        "As colunas que temos interesse são: PTS, GP, GC\n",
        "- PTS: Pontos\n",
        "- GP: Gols marcados\n",
        "- GC: Gols sofridos"
      ]
    },
    {
      "cell_type": "code",
      "metadata": {
        "colab": {
          "base_uri": "https://localhost:8080/",
          "height": 80
        },
        "id": "fa8lJF7dsFZl",
        "outputId": "6bb709fc-ae23-4bb6-8308-c4be84b140d2"
      },
      "source": [
        "df.head(1)"
      ],
      "execution_count": 6,
      "outputs": [
        {
          "output_type": "execute_result",
          "data": {
            "text/html": [
              "<div>\n",
              "<style scoped>\n",
              "    .dataframe tbody tr th:only-of-type {\n",
              "        vertical-align: middle;\n",
              "    }\n",
              "\n",
              "    .dataframe tbody tr th {\n",
              "        vertical-align: top;\n",
              "    }\n",
              "\n",
              "    .dataframe thead th {\n",
              "        text-align: right;\n",
              "    }\n",
              "</style>\n",
              "<table border=\"1\" class=\"dataframe\">\n",
              "  <thead>\n",
              "    <tr style=\"text-align: right;\">\n",
              "      <th></th>\n",
              "      <th>Posição</th>\n",
              "      <th>PTS</th>\n",
              "      <th>J</th>\n",
              "      <th>V</th>\n",
              "      <th>E</th>\n",
              "      <th>D</th>\n",
              "      <th>GP</th>\n",
              "      <th>GC</th>\n",
              "      <th>SG</th>\n",
              "      <th>CA</th>\n",
              "      <th>CV</th>\n",
              "      <th>%</th>\n",
              "      <th>Recentes</th>\n",
              "      <th>Próx</th>\n",
              "    </tr>\n",
              "  </thead>\n",
              "  <tbody>\n",
              "    <tr>\n",
              "      <th>0</th>\n",
              "      <td>1º  0  Flamengo - RJ</td>\n",
              "      <td>71</td>\n",
              "      <td>38</td>\n",
              "      <td>21</td>\n",
              "      <td>8</td>\n",
              "      <td>9</td>\n",
              "      <td>68</td>\n",
              "      <td>48</td>\n",
              "      <td>20</td>\n",
              "      <td>90</td>\n",
              "      <td>4</td>\n",
              "      <td>62</td>\n",
              "      <td>V  V  D</td>\n",
              "      <td>NaN</td>\n",
              "    </tr>\n",
              "  </tbody>\n",
              "</table>\n",
              "</div>"
            ],
            "text/plain": [
              "                Posição  PTS   J   V  E  D  ...  SG  CA  CV   %  Recentes  Próx\n",
              "0  1º  0  Flamengo - RJ   71  38  21  8  9  ...  20  90   4  62   V  V  D   NaN\n",
              "\n",
              "[1 rows x 14 columns]"
            ]
          },
          "metadata": {
            "tags": []
          },
          "execution_count": 6
        }
      ]
    },
    {
      "cell_type": "markdown",
      "metadata": {
        "id": "Fat9yOQZrctk"
      },
      "source": [
        "### Correlação entre Pontos e gols marcados"
      ]
    },
    {
      "cell_type": "code",
      "metadata": {
        "colab": {
          "base_uri": "https://localhost:8080/",
          "height": 111
        },
        "id": "Ai2iTWHbrctl",
        "outputId": "a70249c0-9212-4bea-93c3-1090f570f36e"
      },
      "source": [
        "# ADICIONE O SEU CÓDIGO AQUI\n",
        "df[['PTS', 'GP']].corr()"
      ],
      "execution_count": 8,
      "outputs": [
        {
          "output_type": "execute_result",
          "data": {
            "text/html": [
              "<div>\n",
              "<style scoped>\n",
              "    .dataframe tbody tr th:only-of-type {\n",
              "        vertical-align: middle;\n",
              "    }\n",
              "\n",
              "    .dataframe tbody tr th {\n",
              "        vertical-align: top;\n",
              "    }\n",
              "\n",
              "    .dataframe thead th {\n",
              "        text-align: right;\n",
              "    }\n",
              "</style>\n",
              "<table border=\"1\" class=\"dataframe\">\n",
              "  <thead>\n",
              "    <tr style=\"text-align: right;\">\n",
              "      <th></th>\n",
              "      <th>PTS</th>\n",
              "      <th>GP</th>\n",
              "    </tr>\n",
              "  </thead>\n",
              "  <tbody>\n",
              "    <tr>\n",
              "      <th>PTS</th>\n",
              "      <td>1.000000</td>\n",
              "      <td>0.905261</td>\n",
              "    </tr>\n",
              "    <tr>\n",
              "      <th>GP</th>\n",
              "      <td>0.905261</td>\n",
              "      <td>1.000000</td>\n",
              "    </tr>\n",
              "  </tbody>\n",
              "</table>\n",
              "</div>"
            ],
            "text/plain": [
              "          PTS        GP\n",
              "PTS  1.000000  0.905261\n",
              "GP   0.905261  1.000000"
            ]
          },
          "metadata": {
            "tags": []
          },
          "execution_count": 8
        }
      ]
    },
    {
      "cell_type": "markdown",
      "metadata": {
        "id": "KF3arrxlrctm"
      },
      "source": [
        "### Correlação entre Pontos e gols sofridos"
      ]
    },
    {
      "cell_type": "code",
      "metadata": {
        "colab": {
          "base_uri": "https://localhost:8080/",
          "height": 111
        },
        "id": "vg9zC76grctm",
        "outputId": "4a7f1fa5-451b-410d-f914-0cc716343510"
      },
      "source": [
        "# ADICIONE O SEU CÓDIGO AQUI\n",
        "df[['PTS', 'GC']].corr()"
      ],
      "execution_count": 9,
      "outputs": [
        {
          "output_type": "execute_result",
          "data": {
            "text/html": [
              "<div>\n",
              "<style scoped>\n",
              "    .dataframe tbody tr th:only-of-type {\n",
              "        vertical-align: middle;\n",
              "    }\n",
              "\n",
              "    .dataframe tbody tr th {\n",
              "        vertical-align: top;\n",
              "    }\n",
              "\n",
              "    .dataframe thead th {\n",
              "        text-align: right;\n",
              "    }\n",
              "</style>\n",
              "<table border=\"1\" class=\"dataframe\">\n",
              "  <thead>\n",
              "    <tr style=\"text-align: right;\">\n",
              "      <th></th>\n",
              "      <th>PTS</th>\n",
              "      <th>GC</th>\n",
              "    </tr>\n",
              "  </thead>\n",
              "  <tbody>\n",
              "    <tr>\n",
              "      <th>PTS</th>\n",
              "      <td>1.000000</td>\n",
              "      <td>-0.708773</td>\n",
              "    </tr>\n",
              "    <tr>\n",
              "      <th>GC</th>\n",
              "      <td>-0.708773</td>\n",
              "      <td>1.000000</td>\n",
              "    </tr>\n",
              "  </tbody>\n",
              "</table>\n",
              "</div>"
            ],
            "text/plain": [
              "          PTS        GC\n",
              "PTS  1.000000 -0.708773\n",
              "GC  -0.708773  1.000000"
            ]
          },
          "metadata": {
            "tags": []
          },
          "execution_count": 9
        }
      ]
    },
    {
      "cell_type": "markdown",
      "metadata": {
        "id": "cF67tSzG1mSL"
      },
      "source": [
        "### Correlação entre Pontos e saldo de gols"
      ]
    },
    {
      "cell_type": "code",
      "metadata": {
        "colab": {
          "base_uri": "https://localhost:8080/",
          "height": 111
        },
        "id": "gapByOyG1XUv",
        "outputId": "ea13e533-08b2-4183-9c6d-1e492a2a4ea2"
      },
      "source": [
        "df[['PTS', 'SG']].corr()"
      ],
      "execution_count": 11,
      "outputs": [
        {
          "output_type": "execute_result",
          "data": {
            "text/html": [
              "<div>\n",
              "<style scoped>\n",
              "    .dataframe tbody tr th:only-of-type {\n",
              "        vertical-align: middle;\n",
              "    }\n",
              "\n",
              "    .dataframe tbody tr th {\n",
              "        vertical-align: top;\n",
              "    }\n",
              "\n",
              "    .dataframe thead th {\n",
              "        text-align: right;\n",
              "    }\n",
              "</style>\n",
              "<table border=\"1\" class=\"dataframe\">\n",
              "  <thead>\n",
              "    <tr style=\"text-align: right;\">\n",
              "      <th></th>\n",
              "      <th>PTS</th>\n",
              "      <th>SG</th>\n",
              "    </tr>\n",
              "  </thead>\n",
              "  <tbody>\n",
              "    <tr>\n",
              "      <th>PTS</th>\n",
              "      <td>1.000000</td>\n",
              "      <td>0.972348</td>\n",
              "    </tr>\n",
              "    <tr>\n",
              "      <th>SG</th>\n",
              "      <td>0.972348</td>\n",
              "      <td>1.000000</td>\n",
              "    </tr>\n",
              "  </tbody>\n",
              "</table>\n",
              "</div>"
            ],
            "text/plain": [
              "          PTS        SG\n",
              "PTS  1.000000  0.972348\n",
              "SG   0.972348  1.000000"
            ]
          },
          "metadata": {
            "tags": []
          },
          "execution_count": 11
        }
      ]
    },
    {
      "cell_type": "markdown",
      "metadata": {
        "id": "kIznLb2erctn"
      },
      "source": [
        "### Análise dos Resultados\n",
        "\n",
        "Qual o nível (fraco, moderado, forte) das correlações entre as variáveis analisadas?"
      ]
    },
    {
      "cell_type": "markdown",
      "metadata": {
        "id": "M7qdJ0yrrcto"
      },
      "source": [
        "**RESPONDA AQUI**\n",
        "\n",
        "Entre pontos e gols marcados, temos uma correlação de 0.9, que é uma correlação **muito forte**;\n",
        "\n",
        "Entre pontos e gols sofridos, temos uma correlação de -0.7, que é uma correlação **forte**;"
      ]
    },
    {
      "cell_type": "markdown",
      "metadata": {
        "id": "037g-3vTrcto"
      },
      "source": [
        "De acordo com os dados analisados, é melhor um time focar em marcar mais gols ou sofrer menos gols?"
      ]
    },
    {
      "cell_type": "markdown",
      "metadata": {
        "id": "3rQeKZyJrctp"
      },
      "source": [
        "**RESPONDA AQUI**\n",
        "\n",
        "Ao levarmos em consideração que as correlações são causais, isto é, quanto mais gols marcados, mais pontos o time terá; e que quanto mais gols sofridos, menos pontos. Vemos que o ideal é *fazer mais gols*, pois a correlação entre quantidade de gols marcados e pontos é muito forte, e maior que a correlação entre gols sofridos e pontos.\n",
        "\n",
        "Assim, levando em consideração **apenas** estes dados, os técnicos poderiam armar estratégias para aumentar as jogadas ofensivas e a probabilidade de marcar.\n",
        "\n",
        "Indo um pouco além, quando vemos a correlação entre pontos e o saldo de gols, isto é, a quantidade de gols marcados menos a quantidade de gols sofridos, temos uma correlação ainda mais forte, muito próximo de 1. Isso mostra que o ideal é marcar mais gols e sofrer menos (isso é algo meio lógico, mas é bom poder respaldar essa afirmação com os dados)."
      ]
    },
    {
      "cell_type": "code",
      "metadata": {
        "id": "fOAQC0ln1-32"
      },
      "source": [
        ""
      ],
      "execution_count": null,
      "outputs": []
    }
  ]
}