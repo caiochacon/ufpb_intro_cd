{
  "nbformat": 4,
  "nbformat_minor": 0,
  "metadata": {
    "kernelspec": {
      "name": "python3",
      "display_name": "Python 3"
    },
    "colab": {
      "name": "Exercício_Caio-Lucas_NumPy.ipynb",
      "provenance": [],
      "include_colab_link": true
    },
    "language_info": {
      "name": "python"
    }
  },
  "cells": [
    {
      "cell_type": "markdown",
      "metadata": {
        "id": "view-in-github",
        "colab_type": "text"
      },
      "source": [
        "<a href=\"https://colab.research.google.com/github/caiochacon/ufpb_intro_cd/blob/main/Exerc%C3%ADcio_Caio_Lucas_NumPy.ipynb\" target=\"_parent\"><img src=\"https://colab.research.google.com/assets/colab-badge.svg\" alt=\"Open In Colab\"/></a>"
      ]
    },
    {
      "cell_type": "markdown",
      "metadata": {
        "id": "iXSYuqUHbU2V"
      },
      "source": [
        "# Introdução à Ciência de Dados - UFPB\n",
        "Professor: Yuri Malheiros\n",
        "\n",
        "## NumPy"
      ]
    },
    {
      "cell_type": "markdown",
      "metadata": {
        "id": "LJuIvL0DbU2h"
      },
      "source": [
        "Implemente a função `distance` abaixo. Ela deve receber dois pontos e retornar a distância euclidiana entre eles. Cada ponto é representado por um array do NumPy, por exemplo, `p1 = np.array([2,4])` representa o ponto com coordenadas x=2 e y=2."
      ]
    },
    {
      "cell_type": "code",
      "metadata": {
        "id": "EwRrwla_bU2j"
      },
      "source": [
        "import numpy as np\n",
        "\n",
        "def distance(p1, p2):\n",
        "    \"\"\"\n",
        "    >>> distance(np.array([0,0]), np.array([1,1]))\n",
        "    1.4142135623730951\n",
        "    \n",
        "    >>> distance(np.array([1,2]), np.array([3,4]))\n",
        "    2.8284271247461903\n",
        "    \n",
        "    >>> distance(np.array([5,2]), np.array([-2,-1]))\n",
        "    7.615773105863909\n",
        "    \"\"\"\n",
        "\n",
        "    # ADICIONE O SEU CÓDIGO AQUI\n",
        "    dist = np.sqrt(np.sum((p1 - p2)**2))\n",
        "    return dist"
      ],
      "execution_count": 20,
      "outputs": []
    },
    {
      "cell_type": "code",
      "metadata": {
        "colab": {
          "base_uri": "https://localhost:8080/"
        },
        "id": "oqI102UZrajy",
        "outputId": "7aea905d-452b-4993-d319-90774b521777"
      },
      "source": [
        "a = np.array([5, 2])\n",
        "b = np.array([-2, -1])\n",
        "distance(a, b)"
      ],
      "execution_count": 52,
      "outputs": [
        {
          "output_type": "execute_result",
          "data": {
            "text/plain": [
              "7.615773105863909"
            ]
          },
          "metadata": {
            "tags": []
          },
          "execution_count": 52
        }
      ]
    },
    {
      "cell_type": "markdown",
      "metadata": {
        "id": "zqWFEEqUbU2l"
      },
      "source": [
        "Implemente a função `n_distances` abaixo. Ela recebe um ponto (`p1`), como um array do NumPy, e uma lista de pontos (`points`), uma matriz do NumPy, onde cada linha representa um ponto.\n",
        "\n",
        "Esta função deve retornar a distância de `p1` para todos os pontos da matriz `points`. O retorno também é uma matriz, onde cada linha tem a distância de `p1` para o ponto daquela linha."
      ]
    },
    {
      "cell_type": "code",
      "metadata": {
        "id": "VQBAUPTSbU2l"
      },
      "source": [
        "def n_distances(p1, points):\n",
        "    \"\"\"\n",
        "    >>> n_distances(np.array([0,0]), np.array([[1,1]]))\n",
        "    array([1.41421356])\n",
        "    \n",
        "    >>> n_distances(np.array([0,0]), np.array([[1,1], [2,2]]))\n",
        "    array([1.41421356, 2.82842712])\n",
        "    \n",
        "    >>> n_distances(np.array([1,2]), np.array([[3,-1], [2,1], [5, 2], [10, 1], [-2, -5]]))\n",
        "    array([3.60555128, 1.41421356, 4.        , 9.05538514, 7.61577311])\n",
        "    \"\"\"\n",
        "    \n",
        "    # ADICIONE O SEU CÓDIGO AQUI\n",
        "    array = np.array([np.nan for i in range(len(points))])\n",
        "    for i in range(len(points)): \n",
        "      array[i] = np.sqrt( np.sum ((p1 - points[i]) ** 2))\n",
        "    return array"
      ],
      "execution_count": 127,
      "outputs": []
    },
    {
      "cell_type": "code",
      "metadata": {
        "colab": {
          "base_uri": "https://localhost:8080/"
        },
        "id": "OrACk0KT-0G6",
        "outputId": "e355ea28-9985-4cbe-e217-4f76fbca1bf3"
      },
      "source": [
        "p1 = np.array([0, 0])\n",
        "points = np.array([[1,1], [2,2]])\n",
        "n_distances(p1, points)"
      ],
      "execution_count": 128,
      "outputs": [
        {
          "output_type": "execute_result",
          "data": {
            "text/plain": [
              "array([1.41421356, 2.82842712])"
            ]
          },
          "metadata": {
            "tags": []
          },
          "execution_count": 128
        }
      ]
    },
    {
      "cell_type": "markdown",
      "metadata": {
        "id": "kPsQPj4hbU2m"
      },
      "source": [
        "## Teste"
      ]
    },
    {
      "cell_type": "code",
      "metadata": {
        "id": "K-cBhbhYbU2n",
        "colab": {
          "base_uri": "https://localhost:8080/"
        },
        "outputId": "e50d8cba-ad9c-4327-b7b9-da88105d1a32"
      },
      "source": [
        "import doctest\n",
        "\n",
        "doctest.testmod(verbose=True)"
      ],
      "execution_count": 129,
      "outputs": [
        {
          "output_type": "stream",
          "text": [
            "Trying:\n",
            "    distance(np.array([0,0]), np.array([1,1]))\n",
            "Expecting:\n",
            "    1.4142135623730951\n",
            "ok\n",
            "Trying:\n",
            "    distance(np.array([1,2]), np.array([3,4]))\n",
            "Expecting:\n",
            "    2.8284271247461903\n",
            "ok\n",
            "Trying:\n",
            "    distance(np.array([5,2]), np.array([-2,-1]))\n",
            "Expecting:\n",
            "    7.615773105863909\n",
            "ok\n",
            "Trying:\n",
            "    n_distances(np.array([0,0]), np.array([[1,1]]))\n",
            "Expecting:\n",
            "    array([1.41421356])\n",
            "ok\n",
            "Trying:\n",
            "    n_distances(np.array([0,0]), np.array([[1,1], [2,2]]))\n",
            "Expecting:\n",
            "    array([1.41421356, 2.82842712])\n",
            "ok\n",
            "Trying:\n",
            "    n_distances(np.array([1,2]), np.array([[3,-1], [2,1], [5, 2], [10, 1], [-2, -5]]))\n",
            "Expecting:\n",
            "    array([3.60555128, 1.41421356, 4.        , 9.05538514, 7.61577311])\n",
            "ok\n",
            "1 items had no tests:\n",
            "    __main__\n",
            "2 items passed all tests:\n",
            "   3 tests in __main__.distance\n",
            "   3 tests in __main__.n_distances\n",
            "6 tests in 3 items.\n",
            "6 passed and 0 failed.\n",
            "Test passed.\n"
          ],
          "name": "stdout"
        },
        {
          "output_type": "execute_result",
          "data": {
            "text/plain": [
              "TestResults(failed=0, attempted=6)"
            ]
          },
          "metadata": {
            "tags": []
          },
          "execution_count": 129
        }
      ]
    }
  ]
}