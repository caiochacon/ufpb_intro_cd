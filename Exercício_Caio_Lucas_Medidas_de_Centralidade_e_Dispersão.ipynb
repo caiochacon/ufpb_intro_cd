{
  "nbformat": 4,
  "nbformat_minor": 0,
  "metadata": {
    "kernelspec": {
      "display_name": "icd",
      "language": "python",
      "name": "icd"
    },
    "language_info": {
      "codemirror_mode": {
        "name": "ipython",
        "version": 3
      },
      "file_extension": ".py",
      "mimetype": "text/x-python",
      "name": "python",
      "nbconvert_exporter": "python",
      "pygments_lexer": "ipython3",
      "version": "3.7.7"
    },
    "colab": {
      "name": "Exercício_Caio_Lucas_Medidas_de_Centralidade_e_Dispersão.ipynb",
      "provenance": [],
      "collapsed_sections": [],
      "include_colab_link": true
    }
  },
  "cells": [
    {
      "cell_type": "markdown",
      "metadata": {
        "id": "view-in-github",
        "colab_type": "text"
      },
      "source": [
        "<a href=\"https://colab.research.google.com/github/caiochacon/ufpb_intro_cd/blob/main/Exerc%C3%ADcio_Caio_Lucas_Medidas_de_Centralidade_e_Dispers%C3%A3o.ipynb\" target=\"_parent\"><img src=\"https://colab.research.google.com/assets/colab-badge.svg\" alt=\"Open In Colab\"/></a>"
      ]
    },
    {
      "cell_type": "markdown",
      "metadata": {
        "id": "KmCbi-ZDVBsX"
      },
      "source": [
        "# Introdução à Ciência de Dados - UFPB\n",
        "Professor: Yuri Malheiros\n",
        "\n",
        "## Medidas de Centralidade e Dispersão"
      ]
    },
    {
      "cell_type": "markdown",
      "metadata": {
        "id": "w80BOl1XVBsb"
      },
      "source": [
        "A partir do dataset `movies.csv` calcule a média, mediana e desvio padrão para as colunas:"
      ]
    },
    {
      "cell_type": "code",
      "metadata": {
        "id": "yFcbkVp3VQ51"
      },
      "source": [
        "import pandas as pd\n",
        "import numpy as np\n",
        "import matplotlib.pyplot as plt"
      ],
      "execution_count": 1,
      "outputs": []
    },
    {
      "cell_type": "code",
      "metadata": {
        "id": "wl4IBf-OVbVx"
      },
      "source": [
        "df = pd.read_csv('https://raw.githubusercontent.com/yurimalheiros/icd/master/datasets/movies.csv')"
      ],
      "execution_count": 2,
      "outputs": []
    },
    {
      "cell_type": "code",
      "metadata": {
        "colab": {
          "base_uri": "https://localhost:8080/",
          "height": 168
        },
        "id": "p8LIqbZ2bJAE",
        "outputId": "3f5accc0-d23b-44b6-9c30-f161e4107380"
      },
      "source": [
        "df.head(1)"
      ],
      "execution_count": 3,
      "outputs": [
        {
          "output_type": "execute_result",
          "data": {
            "text/html": [
              "<div>\n",
              "<style scoped>\n",
              "    .dataframe tbody tr th:only-of-type {\n",
              "        vertical-align: middle;\n",
              "    }\n",
              "\n",
              "    .dataframe tbody tr th {\n",
              "        vertical-align: top;\n",
              "    }\n",
              "\n",
              "    .dataframe thead th {\n",
              "        text-align: right;\n",
              "    }\n",
              "</style>\n",
              "<table border=\"1\" class=\"dataframe\">\n",
              "  <thead>\n",
              "    <tr style=\"text-align: right;\">\n",
              "      <th></th>\n",
              "      <th>Title</th>\n",
              "      <th>US Gross</th>\n",
              "      <th>Worldwide Gross</th>\n",
              "      <th>US DVD Sales</th>\n",
              "      <th>Production Budget</th>\n",
              "      <th>Release Date</th>\n",
              "      <th>MPAA Rating</th>\n",
              "      <th>Running Time (min)</th>\n",
              "      <th>Distributor</th>\n",
              "      <th>Source</th>\n",
              "      <th>Major Genre</th>\n",
              "      <th>Creative Type</th>\n",
              "      <th>Director</th>\n",
              "      <th>Rotten Tomatoes Rating</th>\n",
              "      <th>IMDB Rating</th>\n",
              "      <th>IMDB Votes</th>\n",
              "    </tr>\n",
              "  </thead>\n",
              "  <tbody>\n",
              "    <tr>\n",
              "      <th>0</th>\n",
              "      <td>The Land Girls</td>\n",
              "      <td>146083.0</td>\n",
              "      <td>146083.0</td>\n",
              "      <td>NaN</td>\n",
              "      <td>8000000.0</td>\n",
              "      <td>12-Jun-98</td>\n",
              "      <td>R</td>\n",
              "      <td>NaN</td>\n",
              "      <td>Gramercy</td>\n",
              "      <td>NaN</td>\n",
              "      <td>NaN</td>\n",
              "      <td>NaN</td>\n",
              "      <td>NaN</td>\n",
              "      <td>NaN</td>\n",
              "      <td>6.1</td>\n",
              "      <td>1071.0</td>\n",
              "    </tr>\n",
              "  </tbody>\n",
              "</table>\n",
              "</div>"
            ],
            "text/plain": [
              "            Title  US Gross  ...  IMDB Rating  IMDB Votes\n",
              "0  The Land Girls  146083.0  ...          6.1      1071.0\n",
              "\n",
              "[1 rows x 16 columns]"
            ]
          },
          "metadata": {
            "tags": []
          },
          "execution_count": 3
        }
      ]
    },
    {
      "cell_type": "markdown",
      "metadata": {
        "id": "CthmDqHjVBsc"
      },
      "source": [
        "### US Gross"
      ]
    },
    {
      "cell_type": "code",
      "metadata": {
        "colab": {
          "base_uri": "https://localhost:8080/"
        },
        "id": "EWRs0XsjVinU",
        "outputId": "1d9f1a17-3641-4835-fbd6-1ae536273c4f"
      },
      "source": [
        "print('Média:', df['US Gross'].mean())\n",
        "print('Mediana:', df['US Gross'].median())\n",
        "print('Desvio padrão:', df['US Gross'].std())"
      ],
      "execution_count": 4,
      "outputs": [
        {
          "output_type": "stream",
          "text": [
            "Média: 44002085.163744524\n",
            "Mediana: 22019465.5\n",
            "Desvio padrão: 62555311.39066204\n"
          ],
          "name": "stdout"
        }
      ]
    },
    {
      "cell_type": "markdown",
      "metadata": {
        "id": "WnolTMb1VBse"
      },
      "source": [
        "### Production Budget"
      ]
    },
    {
      "cell_type": "code",
      "metadata": {
        "colab": {
          "base_uri": "https://localhost:8080/"
        },
        "id": "MrnitYImVBsf",
        "outputId": "56d82e38-64b8-4a5a-b8d8-0bf7203a63e1"
      },
      "source": [
        "print('Média:', df['Production Budget'].mean())\n",
        "print('Mediana:', df['Production Budget'].median())\n",
        "print('Desvio padrão:', df['Production Budget'].std())"
      ],
      "execution_count": 5,
      "outputs": [
        {
          "output_type": "stream",
          "text": [
            "Média: 31069171.4484375\n",
            "Mediana: 20000000.0\n",
            "Desvio padrão: 35585913.44464446\n"
          ],
          "name": "stdout"
        }
      ]
    },
    {
      "cell_type": "markdown",
      "metadata": {
        "id": "FYki6G8MVBsg"
      },
      "source": [
        "### Running Time"
      ]
    },
    {
      "cell_type": "code",
      "metadata": {
        "colab": {
          "base_uri": "https://localhost:8080/"
        },
        "id": "Crs4Gz6zVBsg",
        "outputId": "e895f1df-6aee-426b-e65a-16fb922b90ba"
      },
      "source": [
        "print('Média:', df['Running Time (min)'].mean())\n",
        "print('Mediana:', df['Running Time (min)'].median())\n",
        "print('Desvio padrão:', df['Running Time (min)'].std())"
      ],
      "execution_count": 6,
      "outputs": [
        {
          "output_type": "stream",
          "text": [
            "Média: 110.19354838709677\n",
            "Mediana: 107.0\n",
            "Desvio padrão: 20.171013677535424\n"
          ],
          "name": "stdout"
        }
      ]
    },
    {
      "cell_type": "markdown",
      "metadata": {
        "id": "ZNcptrkNVBsh"
      },
      "source": [
        "### IMDB Rating"
      ]
    },
    {
      "cell_type": "code",
      "metadata": {
        "colab": {
          "base_uri": "https://localhost:8080/"
        },
        "id": "6T3qn0rHVBsi",
        "outputId": "d409681d-6e88-40be-827b-5563d022e294"
      },
      "source": [
        "print('Média:', df['IMDB Rating'].mean())\n",
        "print('Mediana:', df['IMDB Rating'].median())\n",
        "print('Desvio padrão:', df['IMDB Rating'].std())"
      ],
      "execution_count": 7,
      "outputs": [
        {
          "output_type": "stream",
          "text": [
            "Média: 6.283467202141896\n",
            "Mediana: 6.4\n",
            "Desvio padrão: 1.2522899386004838\n"
          ],
          "name": "stdout"
        }
      ]
    },
    {
      "cell_type": "markdown",
      "metadata": {
        "id": "e4hVCVTUVBsj"
      },
      "source": [
        "### IMDB Votes"
      ]
    },
    {
      "cell_type": "code",
      "metadata": {
        "colab": {
          "base_uri": "https://localhost:8080/"
        },
        "id": "5phpdioJVBsj",
        "outputId": "f5775ba0-0dbe-4869-e1b2-d9fb7d7291dd"
      },
      "source": [
        "print('Média:', df['IMDB Votes'].mean())\n",
        "print('Mediana:', df['IMDB Votes'].median())\n",
        "print('Desvio padrão:', df['IMDB Votes'].std())"
      ],
      "execution_count": 8,
      "outputs": [
        {
          "output_type": "stream",
          "text": [
            "Média: 29908.64457831325\n",
            "Mediana: 15106.0\n",
            "Desvio padrão: 44937.58233504965\n"
          ],
          "name": "stdout"
        }
      ]
    },
    {
      "cell_type": "markdown",
      "metadata": {
        "id": "JFWjQaGDVBsk"
      },
      "source": [
        "### Análise dos Resultados\n",
        "\n",
        "Quais colunas tiveram valores muito diferentes entre média e mediana? Quais os seus desvios padrão?"
      ]
    },
    {
      "cell_type": "markdown",
      "metadata": {
        "id": "FPcgPrw0VBsl"
      },
      "source": [
        "**RESPONDA AQUI**\n",
        "\n",
        "As colunas que tiveram valores mais discrepantes de média e mediana foram:\n",
        "- US Gross, com um desvio padrão de 62.555.311 dólares\n",
        "- Production Budget, com um desvio padrão de 35.585.913 dólares\n",
        "- IMDB Votes, com um desvio padrão de 44.837 votos"
      ]
    },
    {
      "cell_type": "markdown",
      "metadata": {
        "id": "ywWu1bL6VBsl"
      },
      "source": [
        "Que conclusões podemos tirar desses resultados?"
      ]
    },
    {
      "cell_type": "markdown",
      "metadata": {
        "id": "My9P02u5VBsm"
      },
      "source": [
        "**RESPONDA AQUI**\n",
        "\n",
        "As duas colunas com o maior desvio padrão foram aquelas que se relacionam com o dinheiro. O lucro bruto nos EUA possui um desvio padrão de mais de 60 milhões (é muito dinheiro), enquanto o custo de produção, 35 milhões. Isso pode acontecer por causa do \"monopólio\" que existe no mundo dos filmes; isto é, as grandes empresas cinematograficas, que possuem mais condições financeiras, acabam distorcendo o valor real das coisas. Dessa forma, ao calcularmos a média, temos um valor muito maior do que a realidade mostra, pois temos alguns filmes com um custo de produção absurdo, e outros com bem menos. O mesmo vale para o lucro bruto nos Estados Unidos. Um exemplo claro disso é quando comparamos a média do US Gross com o filme que mais arrecadou e o que menos arrecadou: \n"
      ]
    },
    {
      "cell_type": "markdown",
      "metadata": {
        "id": "zeN6n3llbIdC"
      },
      "source": [
        "*Avatar* arrecadou 760 milhões de dólares"
      ]
    },
    {
      "cell_type": "code",
      "metadata": {
        "colab": {
          "base_uri": "https://localhost:8080/",
          "height": 80
        },
        "id": "2QvNHX1Ia6LD",
        "outputId": "e74f87b8-6f88-4d4a-9c1c-fbc325f512f3"
      },
      "source": [
        "df.sort_values(by='US Gross', ascending=False)[:1][['Title', 'US Gross']]"
      ],
      "execution_count": 9,
      "outputs": [
        {
          "output_type": "execute_result",
          "data": {
            "text/html": [
              "<div>\n",
              "<style scoped>\n",
              "    .dataframe tbody tr th:only-of-type {\n",
              "        vertical-align: middle;\n",
              "    }\n",
              "\n",
              "    .dataframe tbody tr th {\n",
              "        vertical-align: top;\n",
              "    }\n",
              "\n",
              "    .dataframe thead th {\n",
              "        text-align: right;\n",
              "    }\n",
              "</style>\n",
              "<table border=\"1\" class=\"dataframe\">\n",
              "  <thead>\n",
              "    <tr style=\"text-align: right;\">\n",
              "      <th></th>\n",
              "      <th>Title</th>\n",
              "      <th>US Gross</th>\n",
              "    </tr>\n",
              "  </thead>\n",
              "  <tbody>\n",
              "    <tr>\n",
              "      <th>1234</th>\n",
              "      <td>Avatar</td>\n",
              "      <td>760167650.0</td>\n",
              "    </tr>\n",
              "  </tbody>\n",
              "</table>\n",
              "</div>"
            ],
            "text/plain": [
              "       Title     US Gross\n",
              "1234  Avatar  760167650.0"
            ]
          },
          "metadata": {
            "tags": []
          },
          "execution_count": 9
        }
      ]
    },
    {
      "cell_type": "markdown",
      "metadata": {
        "id": "woZlyu1ybNBI"
      },
      "source": [
        "Enquanto o filme com menor a menor arrecadação foi *The Rise and Fall of Miss Thang*, com 401 dólares arrecadados.\n",
        "\n",
        "Lembrando que não foram considerados os filmes com arrecadação nula."
      ]
    },
    {
      "cell_type": "code",
      "metadata": {
        "colab": {
          "base_uri": "https://localhost:8080/",
          "height": 80
        },
        "id": "0bgJZH1ibQ2f",
        "outputId": "d41b1aa3-24d1-4880-ca51-d59e112f36e0"
      },
      "source": [
        "df[df['US Gross'] > 0].sort_values(by='US Gross', ascending=False)[-1:][['Title', 'US Gross']]"
      ],
      "execution_count": 10,
      "outputs": [
        {
          "output_type": "execute_result",
          "data": {
            "text/html": [
              "<div>\n",
              "<style scoped>\n",
              "    .dataframe tbody tr th:only-of-type {\n",
              "        vertical-align: middle;\n",
              "    }\n",
              "\n",
              "    .dataframe tbody tr th {\n",
              "        vertical-align: top;\n",
              "    }\n",
              "\n",
              "    .dataframe thead th {\n",
              "        text-align: right;\n",
              "    }\n",
              "</style>\n",
              "<table border=\"1\" class=\"dataframe\">\n",
              "  <thead>\n",
              "    <tr style=\"text-align: right;\">\n",
              "      <th></th>\n",
              "      <th>Title</th>\n",
              "      <th>US Gross</th>\n",
              "    </tr>\n",
              "  </thead>\n",
              "  <tbody>\n",
              "    <tr>\n",
              "      <th>774</th>\n",
              "      <td>The Rise and Fall of Miss Thang</td>\n",
              "      <td>401.0</td>\n",
              "    </tr>\n",
              "  </tbody>\n",
              "</table>\n",
              "</div>"
            ],
            "text/plain": [
              "                               Title  US Gross\n",
              "774  The Rise and Fall of Miss Thang     401.0"
            ]
          },
          "metadata": {
            "tags": []
          },
          "execution_count": 10
        }
      ]
    },
    {
      "cell_type": "markdown",
      "metadata": {
        "id": "t4WjqJl1cj1P"
      },
      "source": [
        "O primeiro filme arrecadou mais de 1,8 milhões de vezes mais que o ultimo, e a média de arrecadação foi de 44 milhões. "
      ]
    },
    {
      "cell_type": "markdown",
      "metadata": {
        "id": "hmY9e8RWbHJ_"
      },
      "source": [
        "A segunda coluna, Production Budget, também é afetada por essa discrepância citada acima. A tendência é que, quanto maior o custo de produção de um filme, maior seja o seu retorno. Claro que isso não é uma regra, mas vejamos os 10 filmes com mais lucro nos nossos dados:"
      ]
    },
    {
      "cell_type": "code",
      "metadata": {
        "colab": {
          "base_uri": "https://localhost:8080/",
          "height": 404
        },
        "id": "s50L8JmSUto3",
        "outputId": "dec2fd88-c3bc-4bef-8fda-f52e6f3b9399"
      },
      "source": [
        "plt.figure(figsize=(8, 6))\n",
        "plt.barh(df.sort_values(by='US Gross', ascending=False)[:10]['Title'], \n",
        "         df.sort_values(by='US Gross', ascending=False)[:10]['US Gross'].values / 1000000)\n",
        "plt.title('Top 10 filmes com maior lucro bruto nos EUA')\n",
        "plt.xlabel('Lucro nos EUA (em Milhões)')\n",
        "plt.show()"
      ],
      "execution_count": 11,
      "outputs": [
        {
          "output_type": "display_data",
          "data": {
            "image/png": "[encoded data removed]",
            "text/plain": [
              "<Figure size 576x432 with 1 Axes>"
            ]
          },
          "metadata": {
            "tags": [],
            "needs_background": "light"
          }
        }
      ]
    },
    {
      "cell_type": "markdown",
      "metadata": {
        "id": "fFpuCVfhYnt_"
      },
      "source": [
        "E agora, os seus respectivos custos de produção:"
      ]
    },
    {
      "cell_type": "code",
      "metadata": {
        "colab": {
          "base_uri": "https://localhost:8080/",
          "height": 404
        },
        "id": "fLfhq2bNes7Z",
        "outputId": "1131236e-1856-4183-8c5c-8e1fa6878047"
      },
      "source": [
        "plt.figure(figsize=(8, 6))\n",
        "plt.barh(df.sort_values(by='US Gross', ascending=False)[:10]['Title'], \n",
        "         df.sort_values(by='US Gross', ascending=False)[:10]['Production Budget'].values / 1000000)\n",
        "plt.title('Custo de produção do top 10 filmes com arrecadação bruta nos EUA')\n",
        "plt.xlabel('Custo de produção (em Milhões)')\n",
        "plt.show()"
      ],
      "execution_count": 12,
      "outputs": [
        {
          "output_type": "display_data",
          "data": {
            "image/png": "[encoded data removed]",
            "text/plain": [
              "<Figure size 576x432 with 1 Axes>"
            ]
          },
          "metadata": {
            "tags": [],
            "needs_background": "light"
          }
        }
      ]
    },
    {
      "cell_type": "markdown",
      "metadata": {
        "id": "cfSeNtrTUjKC"
      },
      "source": [
        "Veja que dos 10 filmes que mais arrecadaram na história, apenas dois deles possuiam um custo de produção abaixo da média (31 milhões) e da mediana (20 milhões), o que reforça a tese da diferença."
      ]
    },
    {
      "cell_type": "code",
      "metadata": {
        "colab": {
          "base_uri": "https://localhost:8080/",
          "height": 404
        },
        "id": "G7bZV3rwT2rK",
        "outputId": "3336893b-5974-42f8-f57b-ffd19429901f"
      },
      "source": [
        "plt.figure(figsize=(8, 6))\n",
        "plt.barh(df.sort_values(by='US Gross', ascending=False)[-10:]['Title'], \n",
        "         df.sort_values(by='US Gross', ascending=False)[-10:]['Production Budget'] / 1000000)\n",
        "plt.title('Custo de produção do top 10 filmes com menor arrecadação bruta nos EUA')\n",
        "plt.xlabel('Custo de produção (em Milhões)')\n",
        "plt.xticks(np.arange(0, 300, 50))\n",
        "plt.show()"
      ],
      "execution_count": 19,
      "outputs": [
        {
          "output_type": "display_data",
          "data": {
            "image/png": "[encoded data removed]",
            "text/plain": [
              "<Figure size 576x432 with 1 Axes>"
            ]
          },
          "metadata": {
            "tags": [],
            "needs_background": "light"
          }
        }
      ]
    },
    {
      "cell_type": "markdown",
      "metadata": {
        "id": "A4PoMh-UdsRr"
      },
      "source": [
        "A ultima coluna com um desvio padrão alto, IMDB Votes, pode ser um reflexo da discrepância mostrada acima, pois, quanto mais um filme arrecadou, mais ele teve pessoas o assistindo e, por consequência, a chance dele ter mais votos é maior. "
      ]
    },
    {
      "cell_type": "markdown",
      "metadata": {
        "id": "h2xUzJp-gp2M"
      },
      "source": [
        "Sendo assim, vimos que as colunas com um maior desvio padrão denunciam os diferentes níveis da indústria cinematográfica: dos grandes sucessos das grandes produtoras até os desconhecidos filmes de produtoras independentes. "
      ]
    }
  ]
}