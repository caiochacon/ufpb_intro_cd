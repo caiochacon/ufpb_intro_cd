{
  "nbformat": 4,
  "nbformat_minor": 0,
  "metadata": {
    "kernelspec": {
      "name": "python3",
      "display_name": "Python 3"
    },
    "colab": {
      "name": "Exercício_Caio_Lucsa_Pandas.ipynb",
      "provenance": [],
      "include_colab_link": true
    },
    "language_info": {
      "name": "python"
    }
  },
  "cells": [
    {
      "cell_type": "markdown",
      "metadata": {
        "id": "view-in-github",
        "colab_type": "text"
      },
      "source": [
        "<a href=\"https://colab.research.google.com/github/caiochacon/ufpb_intro_cd/blob/main/Exerc%C3%ADcio_Caio_Lucsa_Pandas.ipynb\" target=\"_parent\"><img src=\"https://colab.research.google.com/assets/colab-badge.svg\" alt=\"Open In Colab\"/></a>"
      ]
    },
    {
      "cell_type": "markdown",
      "metadata": {
        "id": "MAxx5KHOoAjd"
      },
      "source": [
        "# Introdução à Ciência de Dados - UFPB\n",
        "Professor: Yuri Malheiros\n",
        "\n",
        "## Pandas"
      ]
    },
    {
      "cell_type": "markdown",
      "metadata": {
        "id": "LqwE8e-5oAjp"
      },
      "source": [
        "A partir do dataset `movies.csv` utilize o Pandas para responder as seguintes perguntas:"
      ]
    },
    {
      "cell_type": "code",
      "metadata": {
        "id": "dq0Txdtb1n13"
      },
      "source": [
        "import pandas as pd\n",
        "df = pd.read_csv('https://raw.githubusercontent.com/yurimalheiros/icd/master/datasets/movies.csv')"
      ],
      "execution_count": 2,
      "outputs": []
    },
    {
      "cell_type": "code",
      "metadata": {
        "colab": {
          "base_uri": "https://localhost:8080/",
          "height": 148
        },
        "id": "JFut9-_l1syD",
        "outputId": "8e1906b0-8104-4867-ad09-771432d0e7f6"
      },
      "source": [
        "df.head(1)"
      ],
      "execution_count": 4,
      "outputs": [
        {
          "output_type": "execute_result",
          "data": {
            "text/html": [
              "<div>\n",
              "<style scoped>\n",
              "    .dataframe tbody tr th:only-of-type {\n",
              "        vertical-align: middle;\n",
              "    }\n",
              "\n",
              "    .dataframe tbody tr th {\n",
              "        vertical-align: top;\n",
              "    }\n",
              "\n",
              "    .dataframe thead th {\n",
              "        text-align: right;\n",
              "    }\n",
              "</style>\n",
              "<table border=\"1\" class=\"dataframe\">\n",
              "  <thead>\n",
              "    <tr style=\"text-align: right;\">\n",
              "      <th></th>\n",
              "      <th>Title</th>\n",
              "      <th>US Gross</th>\n",
              "      <th>Worldwide Gross</th>\n",
              "      <th>US DVD Sales</th>\n",
              "      <th>Production Budget</th>\n",
              "      <th>Release Date</th>\n",
              "      <th>MPAA Rating</th>\n",
              "      <th>Running Time (min)</th>\n",
              "      <th>Distributor</th>\n",
              "      <th>Source</th>\n",
              "      <th>Major Genre</th>\n",
              "      <th>Creative Type</th>\n",
              "      <th>Director</th>\n",
              "      <th>Rotten Tomatoes Rating</th>\n",
              "      <th>IMDB Rating</th>\n",
              "      <th>IMDB Votes</th>\n",
              "    </tr>\n",
              "  </thead>\n",
              "  <tbody>\n",
              "    <tr>\n",
              "      <th>0</th>\n",
              "      <td>The Land Girls</td>\n",
              "      <td>146083.0</td>\n",
              "      <td>146083.0</td>\n",
              "      <td>NaN</td>\n",
              "      <td>8000000.0</td>\n",
              "      <td>12-Jun-98</td>\n",
              "      <td>R</td>\n",
              "      <td>NaN</td>\n",
              "      <td>Gramercy</td>\n",
              "      <td>NaN</td>\n",
              "      <td>NaN</td>\n",
              "      <td>NaN</td>\n",
              "      <td>NaN</td>\n",
              "      <td>NaN</td>\n",
              "      <td>6.1</td>\n",
              "      <td>1071.0</td>\n",
              "    </tr>\n",
              "  </tbody>\n",
              "</table>\n",
              "</div>"
            ],
            "text/plain": [
              "            Title  US Gross  ...  IMDB Rating  IMDB Votes\n",
              "0  The Land Girls  146083.0  ...          6.1      1071.0\n",
              "\n",
              "[1 rows x 16 columns]"
            ]
          },
          "metadata": {
            "tags": []
          },
          "execution_count": 4
        }
      ]
    },
    {
      "cell_type": "markdown",
      "metadata": {
        "id": "fPcgUMuWoAjr"
      },
      "source": [
        "### Qual o gênero de filme mais lucrativo em todo o mundo?"
      ]
    },
    {
      "cell_type": "markdown",
      "metadata": {
        "id": "i6GyB0u52bLW"
      },
      "source": [
        "R: Aventura, com um granho mundial de 66.080.960.000 (provavelmente dólares)"
      ]
    },
    {
      "cell_type": "code",
      "metadata": {
        "colab": {
          "base_uri": "https://localhost:8080/"
        },
        "id": "9eZb6J6UoAjs",
        "outputId": "ab9a7fc6-8b83-4e8d-8080-60ae650242dd"
      },
      "source": [
        "# ADICIONE O SEU CÓDIGO AQUI\n",
        "df.groupby('Major Genre').sum()['Worldwide Gross'].sort_values(ascending=False)[:1]"
      ],
      "execution_count": 13,
      "outputs": [
        {
          "output_type": "execute_result",
          "data": {
            "text/plain": [
              "Major Genre\n",
              "Adventure    6.608096e+10\n",
              "Name: Worldwide Gross, dtype: float64"
            ]
          },
          "metadata": {
            "tags": []
          },
          "execution_count": 13
        }
      ]
    },
    {
      "cell_type": "markdown",
      "metadata": {
        "id": "y7xoE2A_oAjt"
      },
      "source": [
        "### Qual o diretor dirigiu mais filmes?"
      ]
    },
    {
      "cell_type": "markdown",
      "metadata": {
        "id": "umqzsewF3IlR"
      },
      "source": [
        "O diretor com mais filmes é o Steven Spielberg, com 23 filmes."
      ]
    },
    {
      "cell_type": "code",
      "metadata": {
        "colab": {
          "base_uri": "https://localhost:8080/"
        },
        "id": "-VHmGfLXoAjt",
        "outputId": "3dc4ef72-6f8f-4425-b518-9f1a59d7fb98"
      },
      "source": [
        "# ADICIONE O SEU CÓDIGO AQUI\n",
        "# Quantidade de vezes que o nome do Diretor aparece\n",
        "df['Director'].value_counts()[:3]"
      ],
      "execution_count": 20,
      "outputs": [
        {
          "output_type": "execute_result",
          "data": {
            "text/plain": [
              "Steven Spielberg    23\n",
              "Woody Allen         16\n",
              "Martin Scorsese     15\n",
              "Name: Director, dtype: int64"
            ]
          },
          "metadata": {
            "tags": []
          },
          "execution_count": 20
        }
      ]
    },
    {
      "cell_type": "markdown",
      "metadata": {
        "id": "RCmAsDV5oAju"
      },
      "source": [
        "### Quais filmes tiverem os maiores arrecadações (Gross) em relação ao orçamento de produção (Budget)?"
      ]
    },
    {
      "cell_type": "markdown",
      "metadata": {
        "id": "o9VJUI684xTu"
      },
      "source": [
        "Abaixo, o top 10 de filmes que mais tiveram arrecadação com relação ao seu orçamento de produção."
      ]
    },
    {
      "cell_type": "code",
      "metadata": {
        "colab": {
          "base_uri": "https://localhost:8080/",
          "height": 359
        },
        "id": "HQkmixujoAjv",
        "outputId": "4feea8fa-25ac-46fb-c3d7-29355bccfd52"
      },
      "source": [
        "# ADICIONE O SEU CÓDIGO AQUI\n",
        "df['Gross/Budget'] = df['Worldwide Gross'] / df['Production Budget']\n",
        "df[['Title', 'Gross/Budget']].sort_values('Gross/Budget', ascending=False)[:10]"
      ],
      "execution_count": 32,
      "outputs": [
        {
          "output_type": "execute_result",
          "data": {
            "text/html": [
              "<div>\n",
              "<style scoped>\n",
              "    .dataframe tbody tr th:only-of-type {\n",
              "        vertical-align: middle;\n",
              "    }\n",
              "\n",
              "    .dataframe tbody tr th {\n",
              "        vertical-align: top;\n",
              "    }\n",
              "\n",
              "    .dataframe thead th {\n",
              "        text-align: right;\n",
              "    }\n",
              "</style>\n",
              "<table border=\"1\" class=\"dataframe\">\n",
              "  <thead>\n",
              "    <tr style=\"text-align: right;\">\n",
              "      <th></th>\n",
              "      <th>Title</th>\n",
              "      <th>Gross/Budget</th>\n",
              "    </tr>\n",
              "  </thead>\n",
              "  <tbody>\n",
              "    <tr>\n",
              "      <th>2526</th>\n",
              "      <td>Paranormal Activity</td>\n",
              "      <td>12918.030200</td>\n",
              "    </tr>\n",
              "    <tr>\n",
              "      <th>2920</th>\n",
              "      <td>Tarnation</td>\n",
              "      <td>5330.339450</td>\n",
              "    </tr>\n",
              "    <tr>\n",
              "      <th>244</th>\n",
              "      <td>Deep Throat</td>\n",
              "      <td>1800.000000</td>\n",
              "    </tr>\n",
              "    <tr>\n",
              "      <th>603</th>\n",
              "      <td>Mad Max</td>\n",
              "      <td>498.750000</td>\n",
              "    </tr>\n",
              "    <tr>\n",
              "      <th>2758</th>\n",
              "      <td>Super Size Me</td>\n",
              "      <td>454.297969</td>\n",
              "    </tr>\n",
              "    <tr>\n",
              "      <th>132</th>\n",
              "      <td>The Brothers McMullen</td>\n",
              "      <td>417.060240</td>\n",
              "    </tr>\n",
              "    <tr>\n",
              "      <th>1318</th>\n",
              "      <td>The Blair Witch Project</td>\n",
              "      <td>413.833333</td>\n",
              "    </tr>\n",
              "    <tr>\n",
              "      <th>531</th>\n",
              "      <td>El Mariachi</td>\n",
              "      <td>291.560000</td>\n",
              "    </tr>\n",
              "    <tr>\n",
              "      <th>651</th>\n",
              "      <td>Night of the Living Dead</td>\n",
              "      <td>263.157895</td>\n",
              "    </tr>\n",
              "    <tr>\n",
              "      <th>781</th>\n",
              "      <td>Rocky</td>\n",
              "      <td>225.000000</td>\n",
              "    </tr>\n",
              "  </tbody>\n",
              "</table>\n",
              "</div>"
            ],
            "text/plain": [
              "                         Title  Gross/Budget\n",
              "2526       Paranormal Activity  12918.030200\n",
              "2920                 Tarnation   5330.339450\n",
              "244                Deep Throat   1800.000000\n",
              "603                    Mad Max    498.750000\n",
              "2758             Super Size Me    454.297969\n",
              "132      The Brothers McMullen    417.060240\n",
              "1318   The Blair Witch Project    413.833333\n",
              "531                El Mariachi    291.560000\n",
              "651   Night of the Living Dead    263.157895\n",
              "781                      Rocky    225.000000"
            ]
          },
          "metadata": {
            "tags": []
          },
          "execution_count": 32
        }
      ]
    }
  ]
}