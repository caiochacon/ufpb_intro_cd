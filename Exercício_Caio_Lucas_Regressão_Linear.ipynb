{
  "nbformat": 4,
  "nbformat_minor": 0,
  "metadata": {
    "kernelspec": {
      "display_name": "icd",
      "language": "python",
      "name": "icd"
    },
    "language_info": {
      "codemirror_mode": {
        "name": "ipython",
        "version": 3
      },
      "file_extension": ".py",
      "mimetype": "text/x-python",
      "name": "python",
      "nbconvert_exporter": "python",
      "pygments_lexer": "ipython3",
      "version": "3.7.7"
    },
    "colab": {
      "name": "Exerccio_Caio-Lucas_Regresso_Linear",
      "provenance": [],
      "include_colab_link": true
    }
  },
  "cells": [
    {
      "cell_type": "markdown",
      "metadata": {
        "id": "view-in-github",
        "colab_type": "text"
      },
      "source": [
        "<a href=\"https://colab.research.google.com/github/caiochacon/ufpb_intro_cd/blob/main/Exerc%C3%ADcio_Caio_Lucas_Regress%C3%A3o_Linear.ipynb\" target=\"_parent\"><img src=\"https://colab.research.google.com/assets/colab-badge.svg\" alt=\"Open In Colab\"/></a>"
      ]
    },
    {
      "cell_type": "markdown",
      "metadata": {
        "id": "bm1j8RspUCrJ"
      },
      "source": [
        "# Introdução à Ciência de Dados - UFPB\n",
        "Professor: Yuri Malheiros\n",
        "\n",
        "## Regressão Linear - Exercício"
      ]
    },
    {
      "cell_type": "markdown",
      "metadata": {
        "id": "K1rD9sFjUCrK"
      },
      "source": [
        "Utilizando o dataset dos filmes, aplique a regressão linear para predizer o `US Gross` de acordo com o `Production Budget`."
      ]
    },
    {
      "cell_type": "markdown",
      "metadata": {
        "id": "FmxB1t2SUCrL"
      },
      "source": [
        "Primeiro carregue os dados:"
      ]
    },
    {
      "cell_type": "code",
      "metadata": {
        "id": "6AiburnOUCrM"
      },
      "source": [
        "import pandas as pd\n",
        "import numpy as np\n",
        "import seaborn as sns\n",
        "\n",
        "# Código para carregar os dados aqui\n",
        "df = pd.read_csv('https://raw.githubusercontent.com/yurimalheiros/icd/master/datasets/movies.csv')"
      ],
      "execution_count": 2,
      "outputs": []
    },
    {
      "cell_type": "markdown",
      "metadata": {
        "id": "ZwnIhvF1UCrN"
      },
      "source": [
        "Visualize os dados com um gráfico de dispersão:"
      ]
    },
    {
      "cell_type": "code",
      "metadata": {
        "colab": {
          "base_uri": "https://localhost:8080/",
          "height": 307
        },
        "id": "1lNp6qNZUCrO",
        "outputId": "d965704a-afb3-4f2b-c050-0d6399812966"
      },
      "source": [
        "# Código para visualizar os dados aqui\n",
        "sns.scatterplot(data=df, x= 'Production Budget', y='US Gross')"
      ],
      "execution_count": 56,
      "outputs": [
        {
          "output_type": "execute_result",
          "data": {
            "text/plain": [
              "<matplotlib.axes._subplots.AxesSubplot at 0x7ff320fb8d10>"
            ]
          },
          "metadata": {
            "tags": []
          },
          "execution_count": 56
        },
        {
          "output_type": "display_data",
          "data": {
            "image/png": "[encoded data removed]",
            "text/plain": [
              "<Figure size 432x288 with 1 Axes>"
            ]
          },
          "metadata": {
            "tags": [],
            "needs_background": "light"
          }
        }
      ]
    },
    {
      "cell_type": "code",
      "metadata": {
        "colab": {
          "base_uri": "https://localhost:8080/"
        },
        "id": "bS6AMHcqW09n",
        "outputId": "0bdff67c-6f63-4ad7-f570-36296a786700"
      },
      "source": [
        "# Retirando os dados com nan\n",
        "df_notnull = df[df['US Gross'].notnull()]\n",
        "df_notnull = df_notnull[df_notnull['Production Budget'].notnull()]\n",
        "print(\"Linhas do df:\",df.shape[0])\n",
        "print(\"Linhas do df sem os valores nulos:\", df_notnull.shape[0])\n",
        "\n",
        "# Como é uma diferença de apenas 8 valores, julguei que não era problemático retirar os valores nulos."
      ],
      "execution_count": 50,
      "outputs": [
        {
          "output_type": "stream",
          "text": [
            "Linhas do df: 3201\n",
            "Linhas do df sem os valores nulos: 3193\n"
          ],
          "name": "stdout"
        }
      ]
    },
    {
      "cell_type": "markdown",
      "metadata": {
        "id": "F0IhFXOAUCrP"
      },
      "source": [
        "Use a regressão linear para encontrar os coeficientes a e b:"
      ]
    },
    {
      "cell_type": "code",
      "metadata": {
        "colab": {
          "base_uri": "https://localhost:8080/"
        },
        "id": "rS4NcZRYUCrP",
        "outputId": "34f7a7c1-4f8b-4ce3-c75f-88939c503211"
      },
      "source": [
        "# Código da regressão linear aqui\n",
        "from scipy.stats import linregress\n",
        "result = linregress(df_notnull['Production Budget'], df_notnull['US Gross'])\n",
        "print(\"Valor de a:\", result.slope)\n",
        "print(\"Valor de b:\", result.intercept)"
      ],
      "execution_count": 49,
      "outputs": [
        {
          "output_type": "stream",
          "text": [
            "Valor de a: 1.0957226466834868\n",
            "Valor de b: 9896486.136543602\n"
          ],
          "name": "stdout"
        }
      ]
    },
    {
      "cell_type": "markdown",
      "metadata": {
        "id": "3J6Y5k4JUCrQ"
      },
      "source": [
        "Utilize a função `show_regression` abaixo para visualizar o resultado da regressão linear. Nesta função, você deve passar as coordenadas x dos pontos, as coordenadas y, o coeficiente a e o coeficiente b."
      ]
    },
    {
      "cell_type": "code",
      "metadata": {
        "id": "g_BTWr67UCrR"
      },
      "source": [
        "#### NÃO ALTERAR ESSE CÓDIGO ####\n",
        "\n",
        "import matplotlib.pyplot as plt\n",
        "\n",
        "def gen_line(x_min, x_max, n_points, a, b):\n",
        "    interval = x_max-x_min\n",
        "    interval_value = interval/n_points\n",
        "    \n",
        "    x_result = []\n",
        "    y_result = []\n",
        "\n",
        "    for i in range(n_points):\n",
        "        current_x = x_min+i*interval_value\n",
        "        x_result.append(current_x)\n",
        "        y_result.append(a*current_x + b)\n",
        "        \n",
        "    return x_result, y_result\n",
        "\n",
        "def show_regression(x, y, a, b):\n",
        "    N = 100\n",
        "\n",
        "    plt.scatter(x, y)\n",
        "\n",
        "    line_1 = gen_line(min(x), max(x), N, a, b)\n",
        "    plt.plot(line_1[0], line_1[1], c= \"red\")\n",
        "\n",
        "    plt.gca()\n",
        "    plt.show()"
      ],
      "execution_count": 52,
      "outputs": []
    },
    {
      "cell_type": "markdown",
      "metadata": {
        "id": "3Jv1D8HTUCrS"
      },
      "source": [
        "Exemplo de uso da função:"
      ]
    },
    {
      "cell_type": "code",
      "metadata": {
        "colab": {
          "base_uri": "https://localhost:8080/",
          "height": 289
        },
        "id": "6gI306WGUCrS",
        "outputId": "02eb4a54-9cbc-494b-be1a-0ff29488f36f"
      },
      "source": [
        "a = result.slope\n",
        "b = result.intercept\n",
        "show_regression(df_notnull[\"Production Budget\"], df_notnull[\"US Gross\"], a, b)"
      ],
      "execution_count": 57,
      "outputs": [
        {
          "output_type": "display_data",
          "data": {
            "image/png": "[encoded data removed]",
            "text/plain": [
              "<Figure size 432x288 with 1 Axes>"
            ]
          },
          "metadata": {
            "tags": [],
            "needs_background": "light"
          }
        }
      ]
    },
    {
      "cell_type": "markdown",
      "metadata": {
        "id": "R4kLDRXyUCrT"
      },
      "source": [
        "A função `predict` recebe um production budget de um filme e retorna a predição do US Gross para ele:"
      ]
    },
    {
      "cell_type": "code",
      "metadata": {
        "colab": {
          "base_uri": "https://localhost:8080/",
          "height": 129
        },
        "id": "9x3UIyg6bUJp",
        "outputId": "12135311-e656-4703-e3d2-bffcf3589a0f"
      },
      "source": [
        "a = 22222.12345\n",
        "print(a2f)"
      ],
      "execution_count": 69,
      "outputs": [
        {
          "output_type": "error",
          "ename": "SyntaxError",
          "evalue": "ignored",
          "traceback": [
            "\u001b[0;36m  File \u001b[0;32m\"<ipython-input-69-f517c4476d38>\"\u001b[0;36m, line \u001b[0;32m2\u001b[0m\n\u001b[0;31m    print(a.2f)\u001b[0m\n\u001b[0m            ^\u001b[0m\n\u001b[0;31mSyntaxError\u001b[0m\u001b[0;31m:\u001b[0m invalid syntax\n"
          ]
        }
      ]
    },
    {
      "cell_type": "code",
      "metadata": {
        "colab": {
          "base_uri": "https://localhost:8080/"
        },
        "id": "IfZUkJzOUCrT",
        "outputId": "fa3373c0-8d27-4c33-af74-fee2778271ad"
      },
      "source": [
        "def predict(production_budget):\n",
        "    \"\"\"\n",
        "    >>> f'{predict(100000):.2f}'\n",
        "    '10006058.40'\n",
        "    \n",
        "    >>> f'{predict(1000000):.2f}'\n",
        "    '10992208.78'\n",
        "\n",
        "    >>> f'{predict(5000000):.2f}'\n",
        "    '15375099.37'\n",
        "    \"\"\"\n",
        "    # ADICIONE O SEU CÓDIGO AQUI\n",
        "    return ((a*production_budget ) + b)\n",
        "predict(5000000)"
      ],
      "execution_count": 81,
      "outputs": [
        {
          "output_type": "execute_result",
          "data": {
            "text/plain": [
              "15375099.369961036"
            ]
          },
          "metadata": {
            "tags": []
          },
          "execution_count": 81
        }
      ]
    },
    {
      "cell_type": "markdown",
      "metadata": {
        "id": "KC-io-ZAUCrU"
      },
      "source": [
        "## Teste"
      ]
    },
    {
      "cell_type": "code",
      "metadata": {
        "colab": {
          "base_uri": "https://localhost:8080/"
        },
        "id": "2vqugkmfUCrU",
        "outputId": "c6eb858a-3517-4a4b-b94c-6fb1e00c895f"
      },
      "source": [
        "import doctest\n",
        "\n",
        "doctest.testmod(verbose=True)"
      ],
      "execution_count": 79,
      "outputs": [
        {
          "output_type": "stream",
          "text": [
            "Trying:\n",
            "    f'{predict(100000):.2f}'\n",
            "Expecting:\n",
            "    '10006058.40'\n",
            "ok\n",
            "Trying:\n",
            "    f'{predict(1000000):.2f}'\n",
            "Expecting:\n",
            "    '10992208.78'\n",
            "ok\n",
            "Trying:\n",
            "    f'{predict(5000000):.2f}'\n",
            "Expecting:\n",
            "    '15375099.37'\n",
            "ok\n",
            "3 items had no tests:\n",
            "    __main__\n",
            "    __main__.gen_line\n",
            "    __main__.show_regression\n",
            "1 items passed all tests:\n",
            "   3 tests in __main__.predict\n",
            "3 tests in 4 items.\n",
            "3 passed and 0 failed.\n",
            "Test passed.\n"
          ],
          "name": "stdout"
        },
        {
          "output_type": "execute_result",
          "data": {
            "text/plain": [
              "TestResults(failed=0, attempted=3)"
            ]
          },
          "metadata": {
            "tags": []
          },
          "execution_count": 79
        }
      ]
    }
  ]
}